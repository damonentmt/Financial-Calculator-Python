{
 "cells": [
  {
   "cell_type": "markdown",
   "metadata": {},
   "source": []
  },
  {
   "cell_type": "code",
   "execution_count": 21,
   "metadata": {},
   "outputs": [],
   "source": [
    "## 计算久期\n",
    "def duration_t(fv,t,r_c,r,n):\n",
    "    ## fv is the future value of bond\n",
    "    ## t is the maturity year\n",
    "    ## r_c is the coupon rate\n",
    "    ## r is the market rate\n",
    "    ## n is how many times coupon paid per year\n",
    "    pv=0\n",
    "    d=0\n",
    "    for i in range(t*n):\n",
    "        pv+=(fv*r_c/n/100)/(1+r/n/100)**(i+1)\n",
    "    pv = pv + fv/(1+r/n/100)**(t*n)\n",
    "\n",
    "    for i in range(t*n):\n",
    "        d+=(fv*r_c/n/100/(1+r/n/100)**(1+i))/pv * ((i+1)/n)\n",
    "    d += (fv/(1+r/n/100)**(t*n))/pv*t\n",
    "    return d"
   ]
  },
  {
   "cell_type": "code",
   "execution_count": 1,
   "metadata": {},
   "outputs": [],
   "source": [
    "## 计算债券的Price\n",
    "def p_v_n(fv,t,r_c,r,n):\n",
    "    ## fv: future value\n",
    "    ## t is the maturity year\n",
    "    ## r_c is the coupon rate\n",
    "    ## r is the market rate\n",
    "    ## n is how many times coupon paid per year\n",
    "    pv=0\n",
    "    for i in range(t*n):\n",
    "        pv+=(fv*r_c/n/100)/(1+r/n/100)**(i+1)\n",
    "    pv = pv + fv/(1+r/n/100)**(t*n)\n",
    "    return pv"
   ]
  },
  {
   "cell_type": "code",
   "execution_count": 4,
   "metadata": {},
   "outputs": [
    {
     "data": {
      "text/plain": [
       "105667.47938274348"
      ]
     },
     "execution_count": 4,
     "metadata": {},
     "output_type": "execute_result"
    }
   ],
   "source": [
    "p_v_n(100000, 18, 6, 5.5, 2)"
   ]
  },
  {
   "cell_type": "code",
   "execution_count": 15,
   "metadata": {},
   "outputs": [
    {
     "data": {
      "text/plain": [
       "808814.4074573787"
      ]
     },
     "execution_count": 15,
     "metadata": {},
     "output_type": "execute_result"
    }
   ],
   "source": [
    "(900000+32625)/(1.03625**4)"
   ]
  },
  {
   "cell_type": "code",
   "execution_count": null,
   "metadata": {},
   "outputs": [],
   "source": []
  }
 ],
 "metadata": {
  "kernelspec": {
   "display_name": "Python 3.9.12 ('base')",
   "language": "python",
   "name": "python3"
  },
  "language_info": {
   "codemirror_mode": {
    "name": "ipython",
    "version": 3
   },
   "file_extension": ".py",
   "mimetype": "text/x-python",
   "name": "python",
   "nbconvert_exporter": "python",
   "pygments_lexer": "ipython3",
   "version": "3.9.12"
  },
  "vscode": {
   "interpreter": {
    "hash": "ab3069cf591cd6996a1fdfbe6244cb6385473441f015322fedf4d1fab6bf3043"
   }
  }
 },
 "nbformat": 4,
 "nbformat_minor": 1
}
